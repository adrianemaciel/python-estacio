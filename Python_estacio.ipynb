{
  "nbformat": 4,
  "nbformat_minor": 0,
  "metadata": {
    "colab": {
      "provenance": [],
      "toc_visible": true,
      "authorship_tag": "ABX9TyPU6F3ZsBDLBsf0vhN847YG",
      "include_colab_link": true
    },
    "kernelspec": {
      "name": "python3",
      "display_name": "Python 3"
    },
    "language_info": {
      "name": "python"
    }
  },
  "cells": [
    {
      "cell_type": "markdown",
      "metadata": {
        "id": "view-in-github",
        "colab_type": "text"
      },
      "source": [
        "<a href=\"https://colab.research.google.com/github/adrianemaciel/python-estacio/blob/main/Python_estacio.ipynb\" target=\"_parent\"><img src=\"https://colab.research.google.com/assets/colab-badge.svg\" alt=\"Open In Colab\"/></a>"
      ]
    },
    {
      "cell_type": "code",
      "source": [
        "L = [1,2,3,4,5,6,7,8]\n",
        "print(L[::-1])"
      ],
      "metadata": {
        "colab": {
          "base_uri": "https://localhost:8080/"
        },
        "id": "mSzKS2aEzXdl",
        "outputId": "3e25ae0e-fd6d-4428-ccc5-3bfc7ecab559"
      },
      "execution_count": null,
      "outputs": [
        {
          "output_type": "stream",
          "name": "stdout",
          "text": [
            "[8, 7, 6, 5, 4, 3, 2, 1]\n"
          ]
        }
      ]
    },
    {
      "cell_type": "markdown",
      "source": [
        "estrutura de repetição"
      ],
      "metadata": {
        "id": "tx4PPSCa5Oel"
      }
    },
    {
      "cell_type": "code",
      "source": [
        "a = 10\n",
        "b = 20\n",
        "if(a>b):\n",
        "  maior = a\n",
        "else:\n",
        "  maior = b \n",
        "print(f'O maior numero e: {maior}')\n"
      ],
      "metadata": {
        "colab": {
          "base_uri": "https://localhost:8080/"
        },
        "id": "syMAqZiZ5TTs",
        "outputId": "ea981415-5480-418f-ac2b-b7f924856c54"
      },
      "execution_count": null,
      "outputs": [
        {
          "output_type": "stream",
          "name": "stdout",
          "text": [
            "O maior numero e: 20\n"
          ]
        }
      ]
    },
    {
      "cell_type": "code",
      "source": [
        "numero = 50\n",
        "\n",
        "if(numero%2==0):\n",
        "  situacao='o numero é par'\n",
        "else:\n",
        "  situacao='o numero é ímpar'\n",
        "\n",
        "print(situacao)\n",
        "\n"
      ],
      "metadata": {
        "colab": {
          "base_uri": "https://localhost:8080/"
        },
        "id": "GdusyIyu542-",
        "outputId": "2cede472-114e-4580-80ad-9ea81d53c3dd"
      },
      "execution_count": null,
      "outputs": [
        {
          "output_type": "stream",
          "name": "stdout",
          "text": [
            "o numero é par\n"
          ]
        }
      ]
    },
    {
      "cell_type": "code",
      "source": [
        "media = 8.5\n",
        "\n",
        "if(media>=7):\n",
        "  aluno='o aluno está aprovado'\n",
        "elif(media>=5):\n",
        "  aluno=\"o aluno está em recuperação\"\n",
        "else:\n",
        "  aluno='o aluno está reprovado'\n",
        "\n",
        "print(aluno)\n",
        "  "
      ],
      "metadata": {
        "id": "2w4fpF8sCQdA",
        "colab": {
          "base_uri": "https://localhost:8080/"
        },
        "outputId": "9d7bda41-1828-4e0c-ca27-4e369762a924"
      },
      "execution_count": null,
      "outputs": [
        {
          "output_type": "stream",
          "name": "stdout",
          "text": [
            "o aluno está aprovado\n"
          ]
        }
      ]
    },
    {
      "cell_type": "code",
      "source": [
        "lista = [10, 2, 5, 7, 6, 3]\n",
        "\n",
        "n=len(lista)\n",
        "soma=0\n",
        "\n",
        "for i in range(n):\n",
        "  if(lista[i]%2==0):\n",
        "    soma=soma+lista[i]\n",
        "print(f'O somatorios dos elementos pares da lista é: {soma}')\n",
        "\n"
      ],
      "metadata": {
        "colab": {
          "base_uri": "https://localhost:8080/"
        },
        "id": "Dgo1NbVdGJlv",
        "outputId": "26b22fdd-4024-4075-aeac-4aaa5460eefa"
      },
      "execution_count": null,
      "outputs": [
        {
          "output_type": "stream",
          "name": "stdout",
          "text": [
            "O somatorios dos elementos pares da lista é: 18\n"
          ]
        }
      ]
    },
    {
      "cell_type": "markdown",
      "source": [
        "programação funcional"
      ],
      "metadata": {
        "id": "2ZrtHBbJMCy5"
      }
    },
    {
      "cell_type": "code",
      "source": [
        "lista = [10, 2, 5, 7, 6, 3]\n",
        "soma=0\n",
        "\n",
        "for num in lista:\n",
        "  if(num%2==0):\n",
        "    soma=soma+num\n",
        "print(f'O somatórios dos elementos pares da lista é: {soma}')\n"
      ],
      "metadata": {
        "colab": {
          "base_uri": "https://localhost:8080/"
        },
        "id": "gZSxbSxKMFib",
        "outputId": "57a8278f-812e-4153-903d-dfe24230ee2e"
      },
      "execution_count": null,
      "outputs": [
        {
          "output_type": "stream",
          "name": "stdout",
          "text": [
            "O somatórios dos elementos pares da lista é: 18\n"
          ]
        }
      ]
    },
    {
      "cell_type": "code",
      "source": [
        "for item in range(2, 4, 5):\n",
        "  print(item)"
      ],
      "metadata": {
        "colab": {
          "base_uri": "https://localhost:8080/"
        },
        "id": "b0vmioAkQ8Ed",
        "outputId": "ad9b4ea4-d724-4e90-a4fa-00d087da3e0c"
      },
      "execution_count": null,
      "outputs": [
        {
          "output_type": "stream",
          "name": "stdout",
          "text": [
            "2\n"
          ]
        }
      ]
    },
    {
      "cell_type": "code",
      "source": [
        "nomes = ['Laura', 'Lis', 'Guilherme', 'Enzo', 'Arthur']\n",
        "for nome in nomes:\n",
        "  print(nome)"
      ],
      "metadata": {
        "colab": {
          "base_uri": "https://localhost:8080/"
        },
        "id": "OyhBBwp0SgHc",
        "outputId": "3bbc19dd-1a2b-4b31-e1c5-10c4237838ba"
      },
      "execution_count": null,
      "outputs": [
        {
          "output_type": "stream",
          "name": "stdout",
          "text": [
            "Laura\n",
            "Lis\n",
            "Guilherme\n",
            "Enzo\n",
            "Arthur\n"
          ]
        }
      ]
    },
    {
      "cell_type": "code",
      "source": [
        "palavra = input('Entre com uma palavra: \\n ')\n",
        "while palavra != 'sair':\n",
        "    palavra = input('Digite sair para encerrar o laço: \\n')\n",
        "print('Você digitou sair e agora está fora do laço')"
      ],
      "metadata": {
        "colab": {
          "base_uri": "https://localhost:8080/"
        },
        "id": "6pDbaJjwUA1k",
        "outputId": "d9059fe5-f043-440f-f273-82ed8894fde0"
      },
      "execution_count": null,
      "outputs": [
        {
          "output_type": "stream",
          "name": "stdout",
          "text": [
            "Entre com uma palavra: \n",
            " ola\n",
            "Digite sair para encerrar o laço: \n",
            "sair\n",
            "Você digitou sair e agora está fora do laço\n"
          ]
        }
      ]
    },
    {
      "cell_type": "markdown",
      "source": [],
      "metadata": {
        "id": "eStOS_kczXqd"
      }
    },
    {
      "cell_type": "markdown",
      "source": [
        "Emprego de procedimentos e funções"
      ],
      "metadata": {
        "id": "7lg1lIf7vunf"
      }
    },
    {
      "cell_type": "code",
      "source": [
        "def encontar_minimo(lista):\n",
        "  minimo = lista[0]\n",
        "  for elem in lista:\n",
        "    if(elem<minimo):\n",
        "      minimo = elem\n",
        "      return minimo\n",
        "\n",
        "lista_teste = [2, 10, 3, 1, 4, 5]\n",
        "menor = encontar_minimo(lista_teste)\n",
        "print('O menor elemento da lista é: [{}]'.format(menor))"
      ],
      "metadata": {
        "colab": {
          "base_uri": "https://localhost:8080/"
        },
        "id": "UcXDTPJIvwXK",
        "outputId": "3c948ca5-853d-49eb-cf69-b7eee01d7c2b"
      },
      "execution_count": null,
      "outputs": [
        {
          "output_type": "stream",
          "name": "stdout",
          "text": [
            "O menor elemento da lista é: [1]\n"
          ]
        }
      ]
    }
  ]
}